{
  "cells": [
    {
      "cell_type": "markdown",
      "metadata": {
        "id": "EVbqAmZF1ckK"
      },
      "source": [
        "# Самостоятельная работа (Словари. Множества)"
      ]
    },
    {
      "cell_type": "markdown",
      "metadata": {
        "id": "iQhhkJb8yk0e"
      },
      "source": [
        "## Задача 1. Список продуктов"
      ]
    },
    {
      "cell_type": "markdown",
      "metadata": {
        "id": "4CntGw70y0cl"
      },
      "source": [
        "В программе задан словарь `products`. Программа должна запрашивать с клавиатуры переменную `k` и выводить на экран значение из заданного словаря по ключу `k`."
      ]
    },
    {
      "cell_type": "markdown",
      "metadata": {
        "id": "2cTbtyQ62Jn0"
      },
      "source": [
        "### Пример"
      ]
    },
    {
      "cell_type": "markdown",
      "metadata": {
        "id": "rl9nUzJZ0MEd"
      },
      "source": [
        "**Ввод:**\n",
        "\n",
        "```\n",
        "3\n",
        "```\n",
        "\n",
        "**Вывод:**\n",
        "\n",
        "```\n",
        "'bananas'\n",
        "```"
      ]
    },
    {
      "cell_type": "code",
      "execution_count": 8,
      "metadata": {
        "id": "KJTwyWBasyBy"
      },
      "outputs": [],
      "source": [
        "products = {1: 'milk', 2: 'oranges', 3:'bananas', 4: 'bread', 5: 'cheese', 6: 'eggs'}"
      ]
    },
    {
      "cell_type": "code",
      "execution_count": 1,
      "metadata": {
        "id": "xDr0YsR_0kNP"
      },
      "outputs": [
        {
          "name": "stdout",
          "output_type": "stream",
          "text": [
            "Значение по ключу 2 : oranges\n"
          ]
        }
      ],
      "source": [
        "products = {1: 'milk', 2: 'oranges', 3: 'bananas', 4: 'bread', 5: 'cheese', 6: 'eggs'}\n",
        "\n",
        "k = int(input(\"Введите ключ: \"))\n",
        "\n",
        "if k in products:\n",
        "    print(\"Значение по ключу\", k, \":\", products[k])\n",
        "else:\n",
        "    print(\"Такого ключа нет в словаре\")\n",
        "\n"
      ]
    },
    {
      "cell_type": "markdown",
      "metadata": {
        "id": "4vF5X_qh14sO"
      },
      "source": [
        "## Задача 2. Информация о товаре"
      ]
    },
    {
      "cell_type": "markdown",
      "metadata": {
        "id": "F6BHNVlbPKci"
      },
      "source": [
        "В программе задан словарь `product`. Программа принимает на вход 2 целочисленные переменные `weight` и `calories`, и одну строковую переменную `country`.\n",
        "\n",
        "Необходимо последовательно:\n",
        "1.   создать ключ `baked` с логическим значением `True`;\n",
        "2.   создать ключ `weight` со значением из переменной `weight`;\n",
        "3.   изменить значение существующего ключа `country` на значение переменной `country`;\n",
        "4.   изменить значение существующего ключа `calories` на значение переменной `calories`.\n",
        "\n",
        "После проделанных операций выведите получившийся словарь на экран."
      ]
    },
    {
      "cell_type": "markdown",
      "metadata": {
        "id": "wip8mnxh2L6M"
      },
      "source": [
        "### Пример"
      ]
    },
    {
      "cell_type": "markdown",
      "metadata": {
        "id": "MCii8ioA2ODr"
      },
      "source": [
        "**Ввод:**\n",
        "\n",
        "```\n",
        "100\n",
        "405\n",
        "Russia\n",
        "\n",
        "```\n",
        "\n",
        "**Вывод:**\n",
        "\n",
        "```\n",
        "{'name': 'cookies','country': 'Russia', 'calories': 405, 'baked': True, 'weight': 100}\n",
        "```"
      ]
    },
    {
      "cell_type": "code",
      "execution_count": null,
      "metadata": {
        "id": "gkEBZFR3ub0L"
      },
      "outputs": [],
      "source": [
        "product = {'name': 'cookies','country': 'China', 'calories': 500}"
      ]
    },
    {
      "cell_type": "code",
      "execution_count": null,
      "metadata": {
        "id": "FByh67fotElk"
      },
      "outputs": [],
      "source": [
        "# дополните код в этой ячейке\n",
        "weight = int(input(\"Введите вес продукта: \"))\n",
        "calories = int(input(\"Введите количество калорий: \"))\n",
        "country = input(\"Введите страну производства: \")"
      ]
    },
    {
      "cell_type": "code",
      "execution_count": 3,
      "metadata": {
        "id": "OFWB97mO2Xgi"
      },
      "outputs": [
        {
          "name": "stdout",
          "output_type": "stream",
          "text": [
            "Получившийся словарь: {'name': 'cookies', 'country': 'Russia', 'calories': 405, 'baked': True, 'weight': 100}\n"
          ]
        }
      ],
      "source": [
        "product = {'name': 'cookies','country': 'China', 'calories': 500}\n",
        "\n",
        "weight = int(input(\"Введите вес продукта: \"))\n",
        "calories = int(input(\"Введите количество калорий: \"))\n",
        "country = input(\"Введите страну производства: \")\n",
        "\n",
        "product['baked'] = True\n",
        "product['weight'] = weight\n",
        "product['country'] = country\n",
        "product['calories'] = calories\n",
        "\n",
        "print(\"Получившийся словарь:\", product)\n",
        "\n"
      ]
    },
    {
      "cell_type": "markdown",
      "metadata": {
        "id": "zdiRaLuLuJOf"
      },
      "source": [
        "## Задача 3. Банковский счет"
      ]
    },
    {
      "cell_type": "markdown",
      "metadata": {
        "id": "ju7Wqnh4uOeN"
      },
      "source": [
        "В программе задан словарь `bank_account`, в котором хранится информация о владельце счета и его балансе.\n",
        "\n",
        "Сохраните в переменную `keys` все ключи словаря списком, а в переменную `values` все значения словаря списком.\n",
        "\n",
        "Выведите на экран обе переменные, каждую на отдельной строке."
      ]
    },
    {
      "cell_type": "markdown",
      "metadata": {
        "id": "Qh6ECPCnugB3"
      },
      "source": [
        "### Пример"
      ]
    },
    {
      "cell_type": "markdown",
      "metadata": {
        "id": "qFW0mhUA1Xo5"
      },
      "source": [
        "**Ввод:**\n",
        "\n",
        "```\n",
        "{'Иванов И.И.': 3500000, 'Петров П.П.': 32000, 'Сидоров С.С.': 5400000, 'Васильев В.В.': 0, 'Сергеев С.С': 3500000}\n",
        "```\n",
        "\n",
        "**Вывод:**\n",
        "\n",
        "```\n",
        "['Иванов И.И.', 'Петров П.П.', 'Сидоров С.С.', 'Васильев В.В.', 'Сергеев С.С']\n",
        "[3500000, 32000, 5400000, 0, 3500000]\n",
        "\n",
        "```"
      ]
    },
    {
      "cell_type": "code",
      "execution_count": 13,
      "metadata": {
        "id": "dJLFoUhiweHU"
      },
      "outputs": [],
      "source": [
        "bank_account = {'Иванов И.И.': 3500000, 'Петров П.П.': 32000, 'Сидоров С.С.': 5400000, 'Васильев В.В.': 0, 'Сергеев С.С': 3500000}"
      ]
    },
    {
      "cell_type": "code",
      "execution_count": 4,
      "metadata": {
        "id": "0gsVLdds1Xo5"
      },
      "outputs": [
        {
          "name": "stdout",
          "output_type": "stream",
          "text": [
            "Ключи словаря: ['Иванов И.И.', 'Петров П.П.', 'Сидоров С.С.', 'Васильев В.В.', 'Сергеев С.С']\n",
            "Значения словаря: [3500000, 32000, 5400000, 0, 3500000]\n"
          ]
        }
      ],
      "source": [
        "\n",
        "bank_account = {'Иванов И.И.': 3500000, 'Петров П.П.': 32000, 'Сидоров С.С.': 5400000, 'Васильев В.В.': 0, 'Сергеев С.С': 3500000}\n",
        "\n",
        "keys = list(bank_account.keys())\n",
        "values = list(bank_account.values())\n",
        "\n",
        "print(\"Ключи словаря:\", keys)\n",
        "print(\"Значения словаря:\", values)\n",
        "\n"
      ]
    },
    {
      "cell_type": "markdown",
      "metadata": {
        "id": "c58PBMtjvAUl"
      },
      "source": [
        "## Задача 4. Баллы за контрольную работу"
      ]
    },
    {
      "cell_type": "markdown",
      "metadata": {
        "id": "IQUxTrCuvDVq"
      },
      "source": [
        "Группе студентов проставили баллы за контрольную работу. Баллы у всех получились разные и они записаны в множество `scores`.\n",
        "\n",
        "1)Определите количество элементов (мощность) заданного множества и выведите его на экран.\n",
        "\n",
        "2)Передайте на вход программы целочисленное значение и выясните, входит ли переданное значение в множество `scores`. Выведите `True`, если входит и `False`, если не входит.\n",
        "\n",
        "3)удалите случайный элемент из множества и снова выведите его мощность на экран.\n",
        "\n"
      ]
    },
    {
      "cell_type": "markdown",
      "metadata": {
        "id": "tpB9CwyAvVGk"
      },
      "source": [
        "### Пример"
      ]
    },
    {
      "cell_type": "markdown",
      "metadata": {
        "id": "95qim08AvVGl"
      },
      "source": [
        "**Ввод:**\n",
        "\n",
        "```\n",
        "{35, 37, 13, 18, 34, 19, 6, 0, 14, 9}\n",
        "9\n",
        "```\n",
        "\n",
        "\n",
        "```\n",
        "10\n",
        "True\n",
        "{35, 37, 13, 18, 19, 6, 0, 14, 9}\n",
        "```\n",
        "\n"
      ]
    },
    {
      "cell_type": "code",
      "execution_count": 8,
      "metadata": {
        "id": "6AnPzmHQvVGm"
      },
      "outputs": [
        {
          "name": "stdout",
          "output_type": "stream",
          "text": [
            "Мощность множества: 10\n",
            "Входит ли число в множество: True\n",
            "Множество после удаления элемента: {34, 35, 37, 6, 9, 13, 14, 18, 19}\n"
          ]
        }
      ],
      "source": [
        "scores_input = input(\"Введите результаты через запятую: \")\n",
        "\n",
        "scores = set(map(int, scores_input.split(',')))\n",
        "\n",
        "print(\"Мощность множества:\", len(scores))\n",
        "\n",
        "value = int(input(\"Введите число для проверки: \"))\n",
        "\n",
        "print(\"Входит ли число в множество:\", value in scores)\n",
        "\n",
        "removed_element = scores.pop()\n",
        "\n",
        "print(\"Множество после удаления элемента:\", scores)\n",
        "\n",
        "\n",
        "\n"
      ]
    },
    {
      "cell_type": "markdown",
      "metadata": {
        "id": "_MZHExF30qcb"
      },
      "source": [
        "## Задача 5. Простые операции с множествами"
      ]
    },
    {
      "cell_type": "markdown",
      "metadata": {
        "id": "ppbD8JVO0yvV"
      },
      "source": [
        "В программе заданы два непустых множества A и B.\n",
        "\n",
        "1)Создайте третье множество C, которое будет содержать все элементы множества А и все элементы множества В. Выведите С на экран.\n",
        "\n",
        "2)Создайте третье множество C, состоящее из элементов, которые присутствуют одновременно и во множестве А, и во множестве В. Выведите С на экран.\n",
        "\n",
        "3)Создайте третье множество C, состоящее из элементов множества А, которые не встречаются во множестве В. Выведите С на экран.\n",
        "\n",
        "4*)Создайте третье множество C, состоящее из элементов, которые встречаются либо только во множестве А, либо только во множестве В. Выведите С на экран.\n",
        "\n",
        "5*) Выясните, является ли множество B подмножеством множества А. Выведите на экран `True`, если является и `False`, если нет."
      ]
    },
    {
      "cell_type": "markdown",
      "metadata": {
        "id": "iVfmCifg1Xo4"
      },
      "source": [
        "### Пример"
      ]
    },
    {
      "cell_type": "markdown",
      "metadata": {
        "id": "9j6kYLpYfF82"
      },
      "source": [
        "**Ввод:**\n",
        "\n",
        "```\n",
        "A = {1, 2, 3, 4, 5}\n",
        "B = {1, 3, 5, 7, 9}\n",
        "```\n",
        "\n",
        "**Вывод:**\n",
        "\n",
        "```\n",
        "{1, 2, 3, 4, 5, 7, 9}\n",
        "{1, 3, 5}\n",
        "{2, 4}\n",
        "{2, 4, 7, 9}\n",
        "False\n",
        "```"
      ]
    },
    {
      "cell_type": "code",
      "execution_count": 13,
      "metadata": {
        "id": "z4eaKv87fY-P"
      },
      "outputs": [
        {
          "name": "stdout",
          "output_type": "stream",
          "text": [
            "Объединение множеств A и B: {1, 2, 3, 4}\n",
            "Пересечение множеств A и B: set()\n",
            "Разность множеств A и B: {1, 3}\n",
            "Симметрическая разность множеств A и B: {1, 2, 3, 4}\n",
            "Множество B является подмножеством множества A: False\n"
          ]
        }
      ],
      "source": [
        "A_input = input(\"Введите значения множества A через запятую: \")\n",
        "A = set(map(int, A_input.split(',')))\n",
        "\n",
        "B_input = input(\"Введите значения множества B через запятую: \")\n",
        "\n",
        "B = set(map(int, B_input.split(',')))\n",
        "\n",
        "C1 = A.union(B)\n",
        "print(\"Объединение множеств A и B:\", C1)\n",
        "\n",
        "C2 = A.intersection(B)\n",
        "print(\"Пересечение множеств A и B:\", C2)\n",
        "\n",
        "C3 = A.difference(B)\n",
        "print(\"Разность множеств A и B:\", C3)\n",
        "\n",
        "C4 = A.symmetric_difference(B)\n",
        "print(\"Симметрическая разность множеств A и B:\", C4)\n",
        "\n",
        "is_subset = B.issubset(A)\n",
        "print(\"Множество B является подмножеством множества A:\", is_subset)\n",
        "\n",
        "\n",
        "\n"
      ]
    },
    {
      "cell_type": "markdown",
      "metadata": {
        "id": "QMlUzOq0oAI5"
      },
      "source": [
        "## Задача 6*. Буквы в тексте"
      ]
    },
    {
      "cell_type": "markdown",
      "metadata": {
        "id": "NOUFNcLEsjtn"
      },
      "source": [
        "В программе задан словарь `letters`, в котором подсчитано сколько раз буквы алфавита встречаются  произвольном тексте. Программа должна принимать на вход переменную `n`, формировать список, состоящий из первых `n` четных чисел, встречающихся в заданном словаре в качестве значений, а затем выводить полученный список на экран."
      ]
    },
    {
      "cell_type": "markdown",
      "metadata": {
        "id": "LqTAjBrNzVw9"
      },
      "source": [
        "### Пример"
      ]
    },
    {
      "cell_type": "markdown",
      "metadata": {
        "id": "zm-BBANJsmkt"
      },
      "source": [
        "**Ввод:**\n",
        "\n",
        "```\n",
        "5\n",
        "```\n",
        "\n",
        "**Вывод:**\n",
        "\n",
        "```\n",
        "[98, 100, 102, 104, 106]\n",
        "```"
      ]
    },
    {
      "cell_type": "code",
      "execution_count": null,
      "metadata": {
        "id": "aK0lPHPE1rCI"
      },
      "outputs": [],
      "source": [
        "letters = {'a': 97, 'b': 98, 'c': 99, 'd': 100, 'e': 101, 'f': 102, 'g': 103, 'h': 104, 'i': 105, 'j': 106, 'k': 107, 'l': 108, 'm': 109, 'n': 110, 'o': 111, 'p': 112, 'q': 113, 'r': 114, 's': 115, 't': 116, 'u': 117, 'v': 118, 'w': 119, 'x': 120, 'y': 121, 'z': 122}"
      ]
    },
    {
      "cell_type": "code",
      "execution_count": 14,
      "metadata": {
        "id": "hbEFM96kjI_p"
      },
      "outputs": [
        {
          "name": "stdout",
          "output_type": "stream",
          "text": [
            "Список первых 5 четных чисел из словаря: [98, 100, 102, 104, 106]\n"
          ]
        }
      ],
      "source": [
        "letters = letters = {'a': 97, 'b': 98, 'c': 99, 'd': 100, 'e': 101, 'f': 102, 'g': 103, 'h': 104, 'i': 105, 'j': 106, 'k': 107, 'l': 108, 'm': 109, 'n': 110, 'o': 111, 'p': 112, 'q': 113, 'r': 114, 's': 115, 't': 116, 'u': 117, 'v': 118, 'w': 119, 'x': 120, 'y': 121, 'z': 122}\n",
        "\n",
        "n = int(input(\"Введите количество четных чисел для поиска: \"))\n",
        "even_numbers = []\n",
        "count = 0\n",
        "for value in letters.values():\n",
        "    if value % 2 == 0:\n",
        "        even_numbers.append(value)\n",
        "        count += 1\n",
        "        if count == n:\n",
        "            break\n",
        "\n",
        "print(\"Список первых\", n, \"четных чисел из словаря:\", even_numbers)\n"
      ]
    }
  ],
  "metadata": {
    "colab": {
      "provenance": []
    },
    "kernelspec": {
      "display_name": "Python 3",
      "name": "python3"
    }
  },
  "nbformat": 4,
  "nbformat_minor": 0
}
